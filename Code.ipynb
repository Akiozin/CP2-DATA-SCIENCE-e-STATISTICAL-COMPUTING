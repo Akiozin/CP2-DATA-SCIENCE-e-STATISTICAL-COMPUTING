{
 "cells": [
  {
   "cell_type": "markdown",
   "metadata": {},
   "source": [
    "# CP 2 - DATA SCIENCE e STATISTICAL COMPUTING - ESPW\n",
    "\n",
    "## - Fabrício Saavedra - 97631\n",
    "## - Guilherme Akio - 98582\n",
    "## - Matheus Motta - 550352"
   ]
  },
  {
   "cell_type": "markdown",
   "metadata": {},
   "source": [
    "## Bibliotecas"
   ]
  },
  {
   "cell_type": "code",
   "execution_count": 1,
   "metadata": {},
   "outputs": [
    {
     "name": "stderr",
     "output_type": "stream",
     "text": [
      "c:\\Program Files\\Python312\\Lib\\site-packages\\tqdm\\auto.py:21: TqdmWarning: IProgress not found. Please update jupyter and ipywidgets. See https://ipywidgets.readthedocs.io/en/stable/user_install.html\n",
      "  from .autonotebook import tqdm as notebook_tqdm\n"
     ]
    }
   ],
   "source": [
    "from vega_datasets import data  # Para carregar os datasets Vega\n",
    "import pandas as pd\n",
    "from ydata_profiling import ProfileReport  # Para gerar o relatório HTML"
   ]
  },
  {
   "cell_type": "markdown",
   "metadata": {},
   "source": [
    "## Carregar o dataset 'cars' do vega_datasets"
   ]
  },
  {
   "cell_type": "code",
   "execution_count": 2,
   "metadata": {},
   "outputs": [],
   "source": [
    "df = data.cars()"
   ]
  },
  {
   "cell_type": "markdown",
   "metadata": {},
   "source": [
    "## Função para gerar o relatório HTML"
   ]
  },
  {
   "cell_type": "code",
   "execution_count": 3,
   "metadata": {},
   "outputs": [],
   "source": [
    "def gerar_relatorio_html(df, nome_relatorio='relatorio_vegas.html', explorative=True, minimal=False):\n",
    "    try:\n",
    "        # Gerando relatório de análise exploratória com pandas profiling\n",
    "        profile = ProfileReport(df, title=\"Relatório de Análise - Vega Dataset\", explorative=explorative, minimal=minimal)\n",
    "        \n",
    "        # Exportando o relatório gerado para um arquivo HTML\n",
    "        profile.to_file(nome_relatorio)\n",
    "        print(f\"Relatório gerado: {nome_relatorio}\")\n",
    "    except Exception as e:\n",
    "        print(f\"Erro ao gerar o relatório: {str(e)}\")"
   ]
  },
  {
   "cell_type": "markdown",
   "metadata": {},
   "source": [
    "## Testar a função gerando o relatório com o dataset de carros"
   ]
  },
  {
   "cell_type": "code",
   "execution_count": 4,
   "metadata": {},
   "outputs": [
    {
     "name": "stderr",
     "output_type": "stream",
     "text": [
      "Summarize dataset: 100%|██████████| 44/44 [00:01<00:00, 23.31it/s, Completed]                                 \n",
      "Generate report structure: 100%|██████████| 1/1 [00:01<00:00,  1.69s/it]\n",
      "Render HTML: 100%|██████████| 1/1 [00:00<00:00,  2.44it/s]\n",
      "Export report to file: 100%|██████████| 1/1 [00:00<00:00, 64.00it/s]"
     ]
    },
    {
     "name": "stdout",
     "output_type": "stream",
     "text": [
      "Relatório gerado: relatorio_vegas.html\n"
     ]
    },
    {
     "name": "stderr",
     "output_type": "stream",
     "text": [
      "\n"
     ]
    }
   ],
   "source": [
    "gerar_relatorio_html(df)"
   ]
  }
 ],
 "metadata": {
  "kernelspec": {
   "display_name": "Python 3",
   "language": "python",
   "name": "python3"
  },
  "language_info": {
   "codemirror_mode": {
    "name": "ipython",
    "version": 3
   },
   "file_extension": ".py",
   "mimetype": "text/x-python",
   "name": "python",
   "nbconvert_exporter": "python",
   "pygments_lexer": "ipython3",
   "version": "3.12.3"
  }
 },
 "nbformat": 4,
 "nbformat_minor": 4
}
